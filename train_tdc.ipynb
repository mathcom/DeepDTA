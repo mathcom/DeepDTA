{
 "cells": [
  {
   "cell_type": "code",
   "execution_count": 1,
   "id": "2ccc67f1",
   "metadata": {},
   "outputs": [
    {
     "name": "stderr",
     "output_type": "stream",
     "text": [
      "Using TensorFlow backend.\n"
     ]
    }
   ],
   "source": [
    "import os\n",
    "from deepdta.interface import DeepDTA, Trainer\n",
    "from deepdta.dataset import Dataset"
   ]
  },
  {
   "cell_type": "code",
   "execution_count": 2,
   "id": "45c03478",
   "metadata": {},
   "outputs": [
    {
     "name": "stdout",
     "output_type": "stream",
     "text": [
      "1.15.0\n"
     ]
    }
   ],
   "source": [
    "import random as rn\n",
    "import numpy as np\n",
    "import tensorflow as tf # 2.4.1\n",
    "print(tf.__version__)\n",
    "\n",
    "os.environ['PYTHONHASHSEED'] = '0'\n",
    "np.random.seed(1)\n",
    "rn.seed(1)\n",
    "tf.compat.v1.random.set_random_seed(0)"
   ]
  },
  {
   "cell_type": "code",
   "execution_count": 3,
   "id": "219e7f4e",
   "metadata": {
    "scrolled": true
   },
   "outputs": [
    {
     "name": "stderr",
     "output_type": "stream",
     "text": [
      "2023-10-09 16:45:37.584743: I tensorflow/core/platform/cpu_feature_guard.cc:145] This TensorFlow binary is optimized with Intel(R) MKL-DNN to use the following CPU instructions in performance critical operations:  SSE4.1 SSE4.2 AVX AVX2 FMA\n",
      "To enable them in non-MKL-DNN operations, rebuild TensorFlow with the appropriate compiler flags.\n",
      "2023-10-09 16:45:37.588112: I tensorflow/core/platform/profile_utils/cpu_utils.cc:94] CPU Frequency: 2112000000 Hz\n",
      "2023-10-09 16:45:37.588630: I tensorflow/compiler/xla/service/service.cc:168] XLA service 0x8635c0 initialized for platform Host (this does not guarantee that XLA will be used). Devices:\n",
      "2023-10-09 16:45:37.588640: I tensorflow/compiler/xla/service/service.cc:176]   StreamExecutor device (0): Host, Default Version\n",
      "OMP: Info #155: KMP_AFFINITY: Initial OS proc set respected: 0-19\n",
      "OMP: Info #216: KMP_AFFINITY: decoding x2APIC ids.\n",
      "OMP: Info #157: KMP_AFFINITY: 20 available OS procs\n",
      "OMP: Info #159: KMP_AFFINITY: Nonuniform topology\n",
      "OMP: Info #287: KMP_AFFINITY: topology layer \"LL cache\" is equivalent to \"socket\".\n",
      "OMP: Info #287: KMP_AFFINITY: topology layer \"L3 cache\" is equivalent to \"socket\".\n",
      "OMP: Info #287: KMP_AFFINITY: topology layer \"L1 cache\" is equivalent to \"core\".\n",
      "OMP: Info #192: KMP_AFFINITY: 1 socket x 12 cores/socket x 2 threads/core (12 total cores)\n",
      "OMP: Info #194: KMP_AFFINITY: Intel(R) Hybrid Technology core type detected: 8 Intel(R) Core(TM) processor cores.\n",
      "OMP: Info #194: KMP_AFFINITY: Intel(R) Hybrid Technology core type detected: 4 Intel Atom(R) processor cores.\n",
      "OMP: Info #218: KMP_AFFINITY: OS proc to physical thread map:\n",
      "OMP: Info #172: KMP_AFFINITY: OS proc 0 maps to socket 0 core 0 thread 0 (Intel(R) Core(TM) processor)\n",
      "OMP: Info #172: KMP_AFFINITY: OS proc 1 maps to socket 0 core 0 thread 1 (Intel(R) Core(TM) processor)\n",
      "OMP: Info #172: KMP_AFFINITY: OS proc 2 maps to socket 0 core 4 thread 0 (Intel(R) Core(TM) processor)\n",
      "OMP: Info #172: KMP_AFFINITY: OS proc 3 maps to socket 0 core 4 thread 1 (Intel(R) Core(TM) processor)\n",
      "OMP: Info #172: KMP_AFFINITY: OS proc 4 maps to socket 0 core 8 thread 0 (Intel(R) Core(TM) processor)\n",
      "OMP: Info #172: KMP_AFFINITY: OS proc 5 maps to socket 0 core 8 thread 1 (Intel(R) Core(TM) processor)\n",
      "OMP: Info #172: KMP_AFFINITY: OS proc 6 maps to socket 0 core 12 thread 0 (Intel(R) Core(TM) processor)\n",
      "OMP: Info #172: KMP_AFFINITY: OS proc 7 maps to socket 0 core 12 thread 1 (Intel(R) Core(TM) processor)\n",
      "OMP: Info #172: KMP_AFFINITY: OS proc 8 maps to socket 0 core 16 thread 0 (Intel(R) Core(TM) processor)\n",
      "OMP: Info #172: KMP_AFFINITY: OS proc 9 maps to socket 0 core 16 thread 1 (Intel(R) Core(TM) processor)\n",
      "OMP: Info #172: KMP_AFFINITY: OS proc 10 maps to socket 0 core 20 thread 0 (Intel(R) Core(TM) processor)\n",
      "OMP: Info #172: KMP_AFFINITY: OS proc 11 maps to socket 0 core 20 thread 1 (Intel(R) Core(TM) processor)\n",
      "OMP: Info #172: KMP_AFFINITY: OS proc 12 maps to socket 0 core 24 thread 0 (Intel(R) Core(TM) processor)\n",
      "OMP: Info #172: KMP_AFFINITY: OS proc 13 maps to socket 0 core 24 thread 1 (Intel(R) Core(TM) processor)\n",
      "OMP: Info #172: KMP_AFFINITY: OS proc 14 maps to socket 0 core 28 thread 0 (Intel(R) Core(TM) processor)\n",
      "OMP: Info #172: KMP_AFFINITY: OS proc 15 maps to socket 0 core 28 thread 1 (Intel(R) Core(TM) processor)\n",
      "OMP: Info #172: KMP_AFFINITY: OS proc 16 maps to socket 0 core 36 thread 0 (Intel Atom(R) processor)\n",
      "OMP: Info #172: KMP_AFFINITY: OS proc 17 maps to socket 0 core 37 thread 0 (Intel Atom(R) processor)\n",
      "OMP: Info #172: KMP_AFFINITY: OS proc 18 maps to socket 0 core 38 thread 0 (Intel Atom(R) processor)\n",
      "OMP: Info #172: KMP_AFFINITY: OS proc 19 maps to socket 0 core 39 thread 0 (Intel Atom(R) processor)\n",
      "OMP: Info #254: KMP_AFFINITY: pid 482022 tid 482022 thread 0 bound to OS proc set 0\n",
      "2023-10-09 16:45:37.589414: I tensorflow/core/common_runtime/process_util.cc:115] Creating new thread pool with default inter op setting: 2. Tune using inter_op_parallelism_threads for best performance.\n"
     ]
    }
   ],
   "source": [
    "from keras import backend as K\n",
    "\n",
    "session_conf = tf.compat.v1.ConfigProto(intra_op_parallelism_threads=0, inter_op_parallelism_threads=0)\n",
    "sess = tf.compat.v1.Session(graph=tf.compat.v1.get_default_graph(), config=session_conf)\n",
    "K.set_session(sess)"
   ]
  },
  {
   "cell_type": "code",
   "execution_count": 4,
   "id": "445ec1a0",
   "metadata": {},
   "outputs": [],
   "source": [
    "from tdc.multi_pred import DTI"
   ]
  },
  {
   "cell_type": "code",
   "execution_count": 5,
   "id": "c8f11c88",
   "metadata": {},
   "outputs": [
    {
     "name": "stderr",
     "output_type": "stream",
     "text": [
      "Found local copy...\n",
      "Loading...\n",
      "Done!\n",
      "To log space...\n",
      "The scale is converted to log scale, so we will take the maximum!\n",
      "The original data has been updated!\n"
     ]
    }
   ],
   "source": [
    "data = DTI(name = 'BindingDB_Kd')\n",
    "data.convert_to_log(form='binding')\n",
    "df_whole = data.harmonize_affinities(mode='max_affinity')"
   ]
  },
  {
   "cell_type": "code",
   "execution_count": 6,
   "id": "afd84351",
   "metadata": {},
   "outputs": [],
   "source": [
    "frames = data.get_split(method='cold_drug', seed=2023, frac=[0.8, 0.1, 0.1])\n",
    "df_tr = frames['train']\n",
    "df_va = frames['valid']\n",
    "df_te = frames['test']"
   ]
  },
  {
   "cell_type": "code",
   "execution_count": 7,
   "id": "7481d0c9",
   "metadata": {},
   "outputs": [],
   "source": [
    "MAX_SEQLEN_SMILES = 100\n",
    "MAX_SEQLEN_PROTEIN = 1000\n",
    "\n",
    "train_data = Dataset(df_tr.loc[:,'Drug'], df_tr.loc[:,'Target'], y=df_tr.loc[:,'Y'], max_seqlen_smiles=MAX_SEQLEN_SMILES, max_seqlen_protein=MAX_SEQLEN_PROTEIN)\n",
    "valid_data = Dataset(df_va.loc[:,'Drug'], df_va.loc[:,'Target'], y=df_va.loc[:,'Y'], max_seqlen_smiles=MAX_SEQLEN_SMILES, max_seqlen_protein=MAX_SEQLEN_PROTEIN)\n",
    "test_data  = Dataset(df_te.loc[:,'Drug'], df_te.loc[:,'Target'], y=df_te.loc[:,'Y'], max_seqlen_smiles=MAX_SEQLEN_SMILES, max_seqlen_protein=MAX_SEQLEN_PROTEIN)"
   ]
  },
  {
   "cell_type": "code",
   "execution_count": 8,
   "id": "6dea43b9",
   "metadata": {},
   "outputs": [
    {
     "name": "stdout",
     "output_type": "stream",
     "text": [
      "WARNING:tensorflow:From /home/descartes/anaconda3/envs/deepdta/lib/python3.7/site-packages/tensorflow_core/python/ops/resource_variable_ops.py:1630: calling BaseResourceVariable.__init__ (from tensorflow.python.ops.resource_variable_ops) with constraint is deprecated and will be removed in a future version.\n",
      "Instructions for updating:\n",
      "If using Keras pass *_constraint arguments to layers.\n",
      "WARNING:tensorflow:From /mnt/nvme0/descartes/DeepDTA/deepdta/network.py:14: The name tf.matrix_band_part is deprecated. Please use tf.linalg.band_part instead.\n",
      "\n",
      "WARNING:tensorflow:From /mnt/nvme0/descartes/DeepDTA/deepdta/network.py:19: where (from tensorflow.python.ops.array_ops) is deprecated and will be removed in a future version.\n",
      "Instructions for updating:\n",
      "Use tf.where in 2.0, which has the same broadcast rule as np.where\n",
      "Model: \"model_1\"\n",
      "__________________________________________________________________________________________________\n",
      "Layer (type)                    Output Shape         Param #     Connected to                     \n",
      "==================================================================================================\n",
      "input_1 (InputLayer)            (None, 100)          0                                            \n",
      "__________________________________________________________________________________________________\n",
      "input_2 (InputLayer)            (None, 1000)         0                                            \n",
      "__________________________________________________________________________________________________\n",
      "embedding_1 (Embedding)         (None, 100, 128)     8320        input_1[0][0]                    \n",
      "__________________________________________________________________________________________________\n",
      "embedding_2 (Embedding)         (None, 1000, 128)    3328        input_2[0][0]                    \n",
      "__________________________________________________________________________________________________\n",
      "conv1d_1 (Conv1D)               (None, 93, 32)       32800       embedding_1[0][0]                \n",
      "__________________________________________________________________________________________________\n",
      "conv1d_4 (Conv1D)               (None, 989, 32)      49184       embedding_2[0][0]                \n",
      "__________________________________________________________________________________________________\n",
      "conv1d_2 (Conv1D)               (None, 86, 64)       16448       conv1d_1[0][0]                   \n",
      "__________________________________________________________________________________________________\n",
      "conv1d_5 (Conv1D)               (None, 978, 64)      24640       conv1d_4[0][0]                   \n",
      "__________________________________________________________________________________________________\n",
      "conv1d_3 (Conv1D)               (None, 79, 96)       49248       conv1d_2[0][0]                   \n",
      "__________________________________________________________________________________________________\n",
      "conv1d_6 (Conv1D)               (None, 967, 96)      73824       conv1d_5[0][0]                   \n",
      "__________________________________________________________________________________________________\n",
      "global_max_pooling1d_1 (GlobalM (None, 96)           0           conv1d_3[0][0]                   \n",
      "__________________________________________________________________________________________________\n",
      "global_max_pooling1d_2 (GlobalM (None, 96)           0           conv1d_6[0][0]                   \n",
      "__________________________________________________________________________________________________\n",
      "concatenate_1 (Concatenate)     (None, 192)          0           global_max_pooling1d_1[0][0]     \n",
      "                                                                 global_max_pooling1d_2[0][0]     \n",
      "__________________________________________________________________________________________________\n",
      "dense_1 (Dense)                 (None, 1024)         197632      concatenate_1[0][0]              \n",
      "__________________________________________________________________________________________________\n",
      "dropout_1 (Dropout)             (None, 1024)         0           dense_1[0][0]                    \n",
      "__________________________________________________________________________________________________\n",
      "dense_2 (Dense)                 (None, 1024)         1049600     dropout_1[0][0]                  \n",
      "__________________________________________________________________________________________________\n",
      "dropout_2 (Dropout)             (None, 1024)         0           dense_2[0][0]                    \n",
      "__________________________________________________________________________________________________\n",
      "dense_3 (Dense)                 (None, 512)          524800      dropout_2[0][0]                  \n",
      "__________________________________________________________________________________________________\n",
      "dense_4 (Dense)                 (None, 1)            513         dense_3[0][0]                    \n",
      "==================================================================================================\n",
      "Total params: 2,030,337\n",
      "Trainable params: 2,030,337\n",
      "Non-trainable params: 0\n",
      "__________________________________________________________________________________________________\n",
      "None\n"
     ]
    }
   ],
   "source": [
    "model = DeepDTA(\n",
    "    max_seqlen_smiles=MAX_SEQLEN_SMILES,\n",
    "    max_seqlen_protein=MAX_SEQLEN_PROTEIN,\n",
    "    vocab_size_smiles=train_data.vocab_size_smiles,\n",
    "    vocab_size_protein=train_data.vocab_size_protein,\n",
    "    num_filters=32,\n",
    "    filter_size_smiles=8,\n",
    "    filter_size_protein=12,\n",
    ")"
   ]
  },
  {
   "cell_type": "code",
   "execution_count": 9,
   "id": "59e86216",
   "metadata": {},
   "outputs": [],
   "source": [
    "trainer = Trainer(model)"
   ]
  },
  {
   "cell_type": "code",
   "execution_count": null,
   "id": "34be2b8e",
   "metadata": {
    "scrolled": true
   },
   "outputs": [
    {
     "name": "stdout",
     "output_type": "stream",
     "text": [
      "WARNING:tensorflow:From /home/descartes/anaconda3/envs/deepdta/lib/python3.7/site-packages/keras/backend/tensorflow_backend.py:422: The name tf.global_variables is deprecated. Please use tf.compat.v1.global_variables instead.\n",
      "\n",
      "Train on 36265 samples, validate on 2578 samples\n",
      "Epoch 1/100\n"
     ]
    },
    {
     "name": "stderr",
     "output_type": "stream",
     "text": [
      "OMP: Info #254: KMP_AFFINITY: pid 482022 tid 482103 thread 1 bound to OS proc set 2\n",
      "OMP: Info #254: KMP_AFFINITY: pid 482022 tid 482102 thread 2 bound to OS proc set 4\n",
      "OMP: Info #254: KMP_AFFINITY: pid 482022 tid 482134 thread 3 bound to OS proc set 6\n",
      "OMP: Info #254: KMP_AFFINITY: pid 482022 tid 482135 thread 4 bound to OS proc set 8\n",
      "OMP: Info #254: KMP_AFFINITY: pid 482022 tid 482136 thread 5 bound to OS proc set 10\n",
      "OMP: Info #254: KMP_AFFINITY: pid 482022 tid 482137 thread 6 bound to OS proc set 12\n",
      "OMP: Info #254: KMP_AFFINITY: pid 482022 tid 482138 thread 7 bound to OS proc set 14\n",
      "OMP: Info #254: KMP_AFFINITY: pid 482022 tid 482139 thread 8 bound to OS proc set 16\n",
      "OMP: Info #254: KMP_AFFINITY: pid 482022 tid 482140 thread 9 bound to OS proc set 17\n",
      "OMP: Info #254: KMP_AFFINITY: pid 482022 tid 482141 thread 10 bound to OS proc set 18\n",
      "OMP: Info #254: KMP_AFFINITY: pid 482022 tid 482142 thread 11 bound to OS proc set 19\n",
      "OMP: Info #254: KMP_AFFINITY: pid 482022 tid 482143 thread 12 bound to OS proc set 1\n",
      "OMP: Info #254: KMP_AFFINITY: pid 482022 tid 482144 thread 13 bound to OS proc set 3\n",
      "OMP: Info #254: KMP_AFFINITY: pid 482022 tid 482145 thread 14 bound to OS proc set 5\n",
      "OMP: Info #254: KMP_AFFINITY: pid 482022 tid 482146 thread 15 bound to OS proc set 7\n",
      "OMP: Info #254: KMP_AFFINITY: pid 482022 tid 482147 thread 16 bound to OS proc set 9\n",
      "OMP: Info #254: KMP_AFFINITY: pid 482022 tid 482148 thread 17 bound to OS proc set 11\n",
      "OMP: Info #254: KMP_AFFINITY: pid 482022 tid 482149 thread 18 bound to OS proc set 13\n",
      "OMP: Info #254: KMP_AFFINITY: pid 482022 tid 482150 thread 19 bound to OS proc set 15\n",
      "OMP: Info #254: KMP_AFFINITY: pid 482022 tid 482151 thread 20 bound to OS proc set 0\n",
      "OMP: Info #254: KMP_AFFINITY: pid 482022 tid 482152 thread 21 bound to OS proc set 2\n",
      "OMP: Info #254: KMP_AFFINITY: pid 482022 tid 482154 thread 23 bound to OS proc set 6\n",
      "OMP: Info #254: KMP_AFFINITY: pid 482022 tid 482153 thread 22 bound to OS proc set 4\n",
      "OMP: Info #254: KMP_AFFINITY: pid 482022 tid 482157 thread 26 bound to OS proc set 12\n",
      "OMP: Info #254: KMP_AFFINITY: pid 482022 tid 482156 thread 25 bound to OS proc set 10\n",
      "OMP: Info #254: KMP_AFFINITY: pid 482022 tid 482155 thread 24 bound to OS proc set 8\n",
      "OMP: Info #254: KMP_AFFINITY: pid 482022 tid 482159 thread 28 bound to OS proc set 16\n",
      "OMP: Info #254: KMP_AFFINITY: pid 482022 tid 482158 thread 27 bound to OS proc set 14\n",
      "OMP: Info #254: KMP_AFFINITY: pid 482022 tid 482161 thread 30 bound to OS proc set 18\n",
      "OMP: Info #254: KMP_AFFINITY: pid 482022 tid 482160 thread 29 bound to OS proc set 17\n",
      "OMP: Info #254: KMP_AFFINITY: pid 482022 tid 482162 thread 31 bound to OS proc set 19\n",
      "OMP: Info #254: KMP_AFFINITY: pid 482022 tid 482163 thread 32 bound to OS proc set 1\n",
      "OMP: Info #254: KMP_AFFINITY: pid 482022 tid 482165 thread 34 bound to OS proc set 5\n",
      "OMP: Info #254: KMP_AFFINITY: pid 482022 tid 482164 thread 33 bound to OS proc set 3\n",
      "OMP: Info #254: KMP_AFFINITY: pid 482022 tid 482166 thread 35 bound to OS proc set 7\n",
      "OMP: Info #254: KMP_AFFINITY: pid 482022 tid 482167 thread 36 bound to OS proc set 9\n",
      "OMP: Info #254: KMP_AFFINITY: pid 482022 tid 482168 thread 37 bound to OS proc set 11\n",
      "OMP: Info #254: KMP_AFFINITY: pid 482022 tid 482169 thread 38 bound to OS proc set 13\n",
      "OMP: Info #254: KMP_AFFINITY: pid 482022 tid 482170 thread 39 bound to OS proc set 15\n",
      "OMP: Info #254: KMP_AFFINITY: pid 482022 tid 482171 thread 40 bound to OS proc set 0\n"
     ]
    },
    {
     "name": "stdout",
     "output_type": "stream",
     "text": [
      " - 104s - loss: 2.5131 - cindex_score: 0.6671 - val_loss: 1.5964 - val_cindex_score: 0.6621\n",
      "Epoch 2/100\n",
      " - 101s - loss: 1.0638 - cindex_score: 0.7607 - val_loss: 1.3818 - val_cindex_score: 0.7038\n",
      "Epoch 3/100\n",
      " - 101s - loss: 0.9343 - cindex_score: 0.7836 - val_loss: 1.3003 - val_cindex_score: 0.6897\n",
      "Epoch 4/100\n",
      " - 101s - loss: 0.8933 - cindex_score: 0.7899 - val_loss: 1.4665 - val_cindex_score: 0.7040\n",
      "Epoch 5/100\n",
      " - 100s - loss: 0.8666 - cindex_score: 0.7977 - val_loss: 1.4543 - val_cindex_score: 0.6911\n",
      "Epoch 6/100\n",
      " - 101s - loss: 0.8425 - cindex_score: 0.8019 - val_loss: 1.2609 - val_cindex_score: 0.7165\n",
      "Epoch 7/100\n",
      " - 101s - loss: 0.8026 - cindex_score: 0.8053 - val_loss: 1.2027 - val_cindex_score: 0.7044\n",
      "Epoch 8/100\n"
     ]
    }
   ],
   "source": [
    "history = trainer.train(train_data, test_data, valid_data, n_epochs=100)"
   ]
  },
  {
   "cell_type": "code",
   "execution_count": null,
   "id": "7662300d",
   "metadata": {},
   "outputs": [],
   "source": [
    "import pandas as pd\n",
    "import matplotlib.pyplot as plt\n",
    "import seaborn as sns\n",
    "\n",
    "sns.set_theme(style='whitegrid')"
   ]
  },
  {
   "cell_type": "code",
   "execution_count": null,
   "id": "e2c6d723",
   "metadata": {},
   "outputs": [],
   "source": [
    "df_history = pd.DataFrame(history.history).reset_index().rename(columns={'index':'epoch'})"
   ]
  },
  {
   "cell_type": "code",
   "execution_count": null,
   "id": "8dc8cced",
   "metadata": {},
   "outputs": [],
   "source": [
    "df_history"
   ]
  },
  {
   "cell_type": "code",
   "execution_count": null,
   "id": "68f273f0",
   "metadata": {},
   "outputs": [],
   "source": [
    "def make_lineplot(df, label):\n",
    "    ## data preprocessing\n",
    "    df_tr = df.loc[:,['epoch', label]]\n",
    "    df_tr.loc[:,'label'] = 'Training'\n",
    "    df_va = df.loc[:,['epoch', f'val_{label}']].rename(columns={f'val_{label}':label})\n",
    "    df_va.loc[:,'label'] = 'Validation'\n",
    "    df_merge = pd.concat([df_tr, df_va], ignore_index=True)\n",
    "    \n",
    "    ## figure\n",
    "    fig, ax = plt.subplots(1,1,figsize=(5,2.5))\n",
    "    \n",
    "    ## plot\n",
    "    sns.lineplot(data=df_merge, x='epoch', y=label, hue='label', ax=ax)\n",
    "    \n",
    "    ax.legend(loc='best')\n",
    "    \n",
    "    plt.tight_layout()\n",
    "    plt.show()"
   ]
  },
  {
   "cell_type": "code",
   "execution_count": null,
   "id": "f04ea997",
   "metadata": {},
   "outputs": [],
   "source": [
    "make_lineplot(df_history, 'loss')"
   ]
  },
  {
   "cell_type": "code",
   "execution_count": null,
   "id": "b8f1c131",
   "metadata": {},
   "outputs": [],
   "source": [
    "make_lineplot(df_history, 'cindex_score')"
   ]
  },
  {
   "cell_type": "code",
   "execution_count": null,
   "id": "ab85c99f",
   "metadata": {},
   "outputs": [],
   "source": [
    "fig, ax = plt.subplots(1,1,figsize=(5,2.5))\n",
    "\n",
    "sns.lineplot(data=df_history, x='epoch', y='cindex_score', ax=ax)\n",
    "sns.lineplot(data=df_history, x='epoch', y='val_cindex_score', ax=ax)\n",
    "\n",
    "ax.set_title('Model Concordance Index')\n",
    "\n",
    "plt.show()"
   ]
  },
  {
   "cell_type": "code",
   "execution_count": null,
   "id": "47637795",
   "metadata": {},
   "outputs": [],
   "source": []
  }
 ],
 "metadata": {
  "kernelspec": {
   "display_name": "Python 3 (ipykernel)",
   "language": "python",
   "name": "python3"
  },
  "language_info": {
   "codemirror_mode": {
    "name": "ipython",
    "version": 3
   },
   "file_extension": ".py",
   "mimetype": "text/x-python",
   "name": "python",
   "nbconvert_exporter": "python",
   "pygments_lexer": "ipython3",
   "version": "3.7.16"
  }
 },
 "nbformat": 4,
 "nbformat_minor": 5
}
